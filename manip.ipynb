{
 "cells": [
  {
   "cell_type": "code",
   "execution_count": 1,
   "id": "0fc998a4",
   "metadata": {},
   "outputs": [],
   "source": [
    "import pandas as pd\n",
    "\n",
    "df = pd.read_csv('./data/Kangaroo.csv')"
   ]
  },
  {
   "cell_type": "code",
   "execution_count": null,
   "id": "a9c5c06b",
   "metadata": {},
   "outputs": [
    {
     "data": {
      "text/plain": [
       "array(['SEMI_EQUIPPED', 'INSTALLED', 'HYPER_EQUIPPED', nan,\n",
       "       'NOT_INSTALLED', 'USA_UNINSTALLED', 'USA_HYPER_EQUIPPED',\n",
       "       'USA_INSTALLED', 'USA_SEMI_EQUIPPED'], dtype=object)"
      ]
     },
     "execution_count": 3,
     "metadata": {},
     "output_type": "execute_result"
    }
   ],
   "source": [
    "df['buildingCondition'].unique()\n"
   ]
  },
  {
   "cell_type": "code",
   "execution_count": 4,
   "id": "150c623a",
   "metadata": {},
   "outputs": [
    {
     "data": {
      "text/plain": [
       "array(['APARTMENT', 'HOUSE', 'FLAT_STUDIO', 'DUPLEX', 'PENTHOUSE',\n",
       "       'APARTMENT_GROUP', 'GROUND_FLOOR', 'APARTMENT_BLOCK', 'MANSION',\n",
       "       'EXCEPTIONAL_PROPERTY', 'MIXED_USE_BUILDING', 'TRIPLEX', 'LOFT',\n",
       "       'VILLA', 'TOWN_HOUSE', 'CHALET', 'HOUSE_GROUP', 'MANOR_HOUSE',\n",
       "       'SERVICE_FLAT', 'KOT', 'FARMHOUSE', 'BUNGALOW', 'COUNTRY_COTTAGE',\n",
       "       'OTHER_PROPERTY', 'CASTLE', 'PAVILION'], dtype=object)"
      ]
     },
     "execution_count": 4,
     "metadata": {},
     "output_type": "execute_result"
    }
   ],
   "source": [
    "df['subtype'].unique()"
   ]
  },
  {
   "cell_type": "code",
   "execution_count": null,
   "id": "d28aa907",
   "metadata": {},
   "outputs": [],
   "source": [
    "\n",
    "df['kitchenType'].unique()"
   ]
  }
 ],
 "metadata": {
  "kernelspec": {
   "display_name": "venv",
   "language": "python",
   "name": "python3"
  },
  "language_info": {
   "codemirror_mode": {
    "name": "ipython",
    "version": 3
   },
   "file_extension": ".py",
   "mimetype": "text/x-python",
   "name": "python",
   "nbconvert_exporter": "python",
   "pygments_lexer": "ipython3",
   "version": "3.11.2"
  }
 },
 "nbformat": 4,
 "nbformat_minor": 5
}
