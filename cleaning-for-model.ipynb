{
 "cells": [
  {
   "cell_type": "markdown",
   "id": "1344577e",
   "metadata": {},
   "source": [
    "# Cleaning Kangaroo dataset - deprecated : use data_preparator.py instead"
   ]
  },
  {
   "cell_type": "code",
   "execution_count": 37,
   "id": "c80fe4a1",
   "metadata": {},
   "outputs": [],
   "source": [
    "import pandas as pd\n",
    "\n",
    "# Suppress warnings\n",
    "import warnings\n",
    "warnings.filterwarnings('ignore')\n",
    "\n",
    "from peb_util import map_label_to_kwh\n",
    "from outlier_util import remove_outliers_iqr"
   ]
  },
  {
   "cell_type": "code",
   "execution_count": 38,
   "id": "30b25b82",
   "metadata": {},
   "outputs": [],
   "source": [
    "df = pd.read_csv('./data/Kangaroo.csv')"
   ]
  },
  {
   "cell_type": "markdown",
   "id": "dc907faa",
   "metadata": {},
   "source": [
    "### Drop duplicate rows"
   ]
  },
  {
   "cell_type": "code",
   "execution_count": 39,
   "id": "33c95387",
   "metadata": {},
   "outputs": [],
   "source": [
    "df.drop_duplicates('id', inplace=True)"
   ]
  },
  {
   "cell_type": "markdown",
   "id": "b3640568",
   "metadata": {},
   "source": [
    "Drop useless columns"
   ]
  },
  {
   "cell_type": "code",
   "execution_count": 40,
   "id": "1f3a29fb",
   "metadata": {},
   "outputs": [],
   "source": [
    "df.drop(columns=['Unnamed: 0', 'url', 'type', 'locality', 'monthlyCost', 'hasBalcony', 'accessibleDisabledPeople', 'kitchenSurface', 'hasTerrace', 'hasGarden', 'gardenOrientation', 'roomCount', 'streetFacadeWidth', 'floorCount', 'floodZoneType', 'terraceOrientation', 'hasAttic', 'hasBasement', 'diningRoomSurface', 'hasDiningRoom', 'hasLift', 'heatingType', 'hasLivingRoom', 'livingRoomSurface', 'gardenSurface', 'parkingCountIndoor', 'hasAirConditioning', 'hasArmoredDoor', 'hasVisiophone', 'bathroomCount'], inplace=True)"
   ]
  },
  {
   "cell_type": "markdown",
   "id": "04615736",
   "metadata": {},
   "source": [
    "Replace values"
   ]
  },
  {
   "cell_type": "code",
   "execution_count": 41,
   "id": "e27b155d",
   "metadata": {},
   "outputs": [],
   "source": [
    "\n",
    "df['hasOffice'].replace(pd.NA, False, inplace=True)\n",
    "df['hasPhotovoltaicPanels'].replace(pd.NA, False, inplace=True)\n",
    "df['hasHeatPump'].replace(pd.NA, False, inplace=True)\n",
    "df['hasThermicPanels'].replace(pd.NA, False, inplace=True)\n",
    "df['hasFireplace'].replace(pd.NA, False, inplace=True)\n",
    "df['hasDressingRoom'].replace(pd.NA, False, inplace=True)\n",
    "df['hasSwimmingPool'].replace(pd.NA, False, inplace=True)\n",
    "\n",
    "df['terraceSurface'].fillna(0.0, inplace=True)\n",
    "df['parkingCountOutdoor'].fillna(0, inplace=True)\n",
    "df['landSurface'].fillna(0.0, inplace=True)"
   ]
  },
  {
   "cell_type": "markdown",
   "id": "e6cbccda",
   "metadata": {},
   "source": [
    "Replace True_False with 1_0"
   ]
  },
  {
   "cell_type": "code",
   "execution_count": 42,
   "id": "504eb51b",
   "metadata": {},
   "outputs": [
    {
     "name": "stdout",
     "output_type": "stream",
     "text": [
      "Converted 7 boolean columns to integers:\n",
      "['hasDressingRoom', 'hasHeatPump', 'hasPhotovoltaicPanels', 'hasThermicPanels', 'hasOffice', 'hasSwimmingPool', 'hasFireplace']\n",
      "\n",
      "DataFrame dtypes after conversion:\n",
      "float64    10\n",
      "int64       8\n",
      "object      5\n",
      "Name: count, dtype: int64\n"
     ]
    }
   ],
   "source": [
    "# Convert boolean columns to integers (True -> 1, False -> 0)\n",
    "bool_columns = df.select_dtypes(include='bool').columns\n",
    "for column in bool_columns:\n",
    "    df[column] = df[column].astype(int)\n",
    "\n",
    "# Verify the conversion\n",
    "print(f\"Converted {len(bool_columns)} boolean columns to integers:\")\n",
    "print(bool_columns.tolist())\n",
    "print(\"\\nDataFrame dtypes after conversion:\")\n",
    "print(df.dtypes.value_counts())"
   ]
  },
  {
   "cell_type": "markdown",
   "id": "c93e317b",
   "metadata": {},
   "source": [
    "Strip & Uppercase strings"
   ]
  },
  {
   "cell_type": "code",
   "execution_count": 43,
   "id": "05f7ec24",
   "metadata": {},
   "outputs": [
    {
     "name": "stdout",
     "output_type": "stream",
     "text": [
      "Processed column 'subtype': 80367 values modified\n",
      "Processed column 'province': 80367 values modified\n",
      "Processed column 'buildingCondition': 57991 values modified\n",
      "Processed column 'kitchenType': 41916 values modified\n",
      "Processed column 'epcScore': 65390 values modified\n"
     ]
    }
   ],
   "source": [
    "string_columns = df.select_dtypes(include='object').columns\n",
    "\n",
    "for column in string_columns:\n",
    "    # Apply strip and uppercase, but only to non-NaN string values\n",
    "    df[column] = df[column].apply(lambda x: x.strip().upper() if isinstance(x, str) else x)\n",
    "    \n",
    "    # Count the modified values\n",
    "    modified_count = df[column].notna().sum()\n",
    "    \n",
    "    # Print the result\n",
    "    print(f\"Processed column '{column}': {modified_count} values modified\")"
   ]
  },
  {
   "cell_type": "markdown",
   "id": "436ae111",
   "metadata": {},
   "source": [
    "Convert PEB before removing province col"
   ]
  },
  {
   "cell_type": "code",
   "execution_count": 44,
   "id": "182b449c",
   "metadata": {},
   "outputs": [],
   "source": [
    "df[\"epc_kwh\"] = df.apply(map_label_to_kwh, axis=1)\n",
    "df.drop(columns=['epcScore', 'province'], inplace=True)"
   ]
  },
  {
   "cell_type": "markdown",
   "id": "44c5b4a6",
   "metadata": {},
   "source": [
    "Remove Outliers first"
   ]
  },
  {
   "cell_type": "code",
   "execution_count": 45,
   "id": "6e14b77d",
   "metadata": {},
   "outputs": [],
   "source": [
    "columns_for_outlier_removal = [\n",
    "    'price',\n",
    "    'habitableSurface'\n",
    "]\n",
    "\n",
    "min_thresholds = { 'habitableSurface' : 25 }  \n",
    "\n",
    "df = remove_outliers_iqr(df, columns_for_outlier_removal, multiplier=1.5, min_thresholds=min_thresholds)\n"
   ]
  },
  {
   "cell_type": "markdown",
   "id": "d0b45830",
   "metadata": {},
   "source": [
    "### Imputing values after removing outliers"
   ]
  },
  {
   "cell_type": "code",
   "execution_count": 46,
   "id": "a032be9a",
   "metadata": {},
   "outputs": [],
   "source": [
    "df['facedeCount'].fillna(int(df['facedeCount'].median()), inplace=True)\n",
    "df['buildingConstructionYear'].fillna(int(df['buildingConstructionYear'].median()), inplace=True)\n",
    "df['habitableSurface'].fillna(int(df['habitableSurface'].median()), inplace=True)\n",
    "df['bedroomCount'].fillna(int(df['bedroomCount'].median()), inplace=True)\n",
    "df['epc_kwh'].fillna(int(df['epc_kwh'].median()), inplace=True)"
   ]
  },
  {
   "cell_type": "markdown",
   "id": "ed9dc6d2",
   "metadata": {},
   "source": [
    "Clamp facade count to the range 1-4"
   ]
  },
  {
   "cell_type": "code",
   "execution_count": 47,
   "id": "70621e35",
   "metadata": {},
   "outputs": [],
   "source": [
    "# # Clamp facedeCount to the range 1-4\n",
    "# print(f\"Rows with facedeCount > 4 before clamping: {sum(df['facedeCount'] > 4)}\")\n",
    "# df['facedeCount'] = df['facedeCount'].clip(lower=1, upper=4)\n",
    "# print(f\"Max facedeCount after clamping: {df['facedeCount'].max()}\")\n",
    "# print(f\"Min facedeCount after clamping: {df['facedeCount'].min()}\")"
   ]
  },
  {
   "cell_type": "markdown",
   "id": "5ec6ee0d",
   "metadata": {},
   "source": [
    "### Converting values\n",
    "\n",
    "Find trend and convert Building Condition according to it"
   ]
  },
  {
   "cell_type": "code",
   "execution_count": 48,
   "id": "3f91b85c",
   "metadata": {},
   "outputs": [],
   "source": [
    "building_condition_price = df.groupby('buildingCondition')['price'].mean().round().sort_values(ascending=False)\n",
    "df['buildingCondition'] = df['buildingCondition'].map(building_condition_price.to_dict())"
   ]
  },
  {
   "cell_type": "markdown",
   "id": "3bc6dd61",
   "metadata": {},
   "source": [
    "Find trend for postalCode"
   ]
  },
  {
   "cell_type": "code",
   "execution_count": 49,
   "id": "946f941f",
   "metadata": {},
   "outputs": [],
   "source": [
    "# Calculate the average price/m2 per postalCode\n",
    "df['price_per_m2'] = df['price'] / df['habitableSurface']\n",
    "\n",
    "postal_code_price = df.groupby('postCode')['price_per_m2'].mean().round().sort_values(ascending=False)\n",
    "\n",
    "df['postCode'] = df['postCode'].map(postal_code_price.to_dict())\n",
    "df.drop(columns=['price_per_m2'], inplace=True)\n"
   ]
  },
  {
   "cell_type": "markdown",
   "id": "38af24c1",
   "metadata": {},
   "source": [
    "Find trend and convert SubType according to it"
   ]
  },
  {
   "cell_type": "code",
   "execution_count": 50,
   "id": "4c8e1ea6",
   "metadata": {},
   "outputs": [],
   "source": [
    "subtype_price = df.groupby('subtype')['price'].mean().round().sort_values(ascending=False)\n",
    "df['subtype'] = df['subtype'].map(subtype_price.to_dict())"
   ]
  },
  {
   "cell_type": "markdown",
   "id": "269d8be2",
   "metadata": {},
   "source": [
    "Find trend and convert KitchenType according to it"
   ]
  },
  {
   "cell_type": "code",
   "execution_count": 51,
   "id": "1e237ba5",
   "metadata": {},
   "outputs": [],
   "source": [
    "kitchen_type_price = df.groupby('kitchenType')['price'].mean().round().sort_values(ascending=False)\n",
    "df['kitchenType'] = df['kitchenType'].map(kitchen_type_price.to_dict())"
   ]
  },
  {
   "cell_type": "markdown",
   "id": "5e811ad7",
   "metadata": {},
   "source": [
    "Replace by mode"
   ]
  },
  {
   "cell_type": "code",
   "execution_count": 52,
   "id": "c163335e",
   "metadata": {},
   "outputs": [],
   "source": [
    "df['buildingCondition'].fillna(df['buildingCondition'].mode()[0], inplace=True)\n",
    "df['subtype'].fillna(df['subtype'].mode()[0], inplace=True)\n",
    "df['kitchenType'].fillna(df['kitchenType'].mode()[0], inplace=True)"
   ]
  },
  {
   "cell_type": "markdown",
   "id": "e4a24f9d",
   "metadata": {},
   "source": [
    "Drop type & dropna"
   ]
  },
  {
   "cell_type": "code",
   "execution_count": 53,
   "id": "cf463654",
   "metadata": {},
   "outputs": [
    {
     "name": "stdout",
     "output_type": "stream",
     "text": [
      "Correlation with price:\n",
      "price                       1.000000\n",
      "habitableSurface            0.522432\n",
      "toiletCount                 0.441864\n",
      "bedroomCount                0.382868\n",
      "postCode                    0.371228\n",
      "subtype                     0.338972\n",
      "kitchenType                 0.282991\n",
      "buildingCondition           0.251002\n",
      "hasPhotovoltaicPanels       0.208022\n",
      "hasHeatPump                 0.186513\n",
      "facedeCount                 0.183534\n",
      "landSurface                 0.180497\n",
      "hasOffice                   0.171144\n",
      "terraceSurface              0.128613\n",
      "hasDressingRoom             0.128157\n",
      "parkingCountOutdoor         0.126360\n",
      "hasFireplace                0.125721\n",
      "buildingConstructionYear    0.125469\n",
      "hasThermicPanels            0.118150\n",
      "hasSwimmingPool             0.114555\n",
      "id                          0.020205\n",
      "epc_kwh                    -0.226562\n",
      "Name: price, dtype: float64\n"
     ]
    }
   ],
   "source": [
    "df.dropna(inplace=True)\n",
    "\n",
    "\n",
    "for col in df.columns:\n",
    "    df[col] = df[col].astype(int)\n",
    "\n",
    "price_corr = df.corr()['price'].sort_values(ascending=False)\n",
    "print(\"Correlation with price:\")\n",
    "print(price_corr)"
   ]
  },
  {
   "cell_type": "markdown",
   "id": "c0f428f7",
   "metadata": {},
   "source": [
    "### Finally save the cleaned dataset"
   ]
  },
  {
   "cell_type": "code",
   "execution_count": 54,
   "id": "2f1f37c7",
   "metadata": {},
   "outputs": [
    {
     "name": "stdout",
     "output_type": "stream",
     "text": [
      "Dataset saved with 44809 rows and 22 columns\n"
     ]
    }
   ],
   "source": [
    "# Save the cleaned dataset to CSV \n",
    "df.to_csv('./data/kangaroo-cleaned-with-id.csv', index=False)\n",
    "print(f\"Dataset saved with {len(df)} rows and {len(df.columns)} columns\")"
   ]
  }
 ],
 "metadata": {
  "kernelspec": {
   "display_name": "venv",
   "language": "python",
   "name": "python3"
  },
  "language_info": {
   "codemirror_mode": {
    "name": "ipython",
    "version": 3
   },
   "file_extension": ".py",
   "mimetype": "text/x-python",
   "name": "python",
   "nbconvert_exporter": "python",
   "pygments_lexer": "ipython3",
   "version": "3.11.2"
  }
 },
 "nbformat": 4,
 "nbformat_minor": 5
}
