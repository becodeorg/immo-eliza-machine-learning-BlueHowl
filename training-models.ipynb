{
 "cells": [
  {
   "cell_type": "code",
   "execution_count": 112,
   "id": "af752143",
   "metadata": {},
   "outputs": [],
   "source": [
    "import pandas as pd\n",
    "import numpy as np\n",
    "from sklearn.model_selection import train_test_split\n",
    "from sklearn.linear_model import LinearRegression\n",
    "# from sklearn.preprocessing import StandardScaler\n",
    "from sklearn.metrics import mean_absolute_error, mean_absolute_percentage_error, root_mean_squared_error, r2_score\n",
    "\n",
    "import xgboost as xgb"
   ]
  },
  {
   "cell_type": "code",
   "execution_count": 113,
   "id": "43f49cb5",
   "metadata": {},
   "outputs": [
    {
     "data": {
      "application/vnd.microsoft.datawrangler.viewer.v0+json": {
       "columns": [
        {
         "name": "index",
         "rawType": "int64",
         "type": "integer"
        },
        {
         "name": "subtype",
         "rawType": "int64",
         "type": "integer"
        },
        {
         "name": "bedroomCount",
         "rawType": "int64",
         "type": "integer"
        },
        {
         "name": "postCode",
         "rawType": "int64",
         "type": "integer"
        },
        {
         "name": "habitableSurface",
         "rawType": "int64",
         "type": "integer"
        },
        {
         "name": "hasDressingRoom",
         "rawType": "int64",
         "type": "integer"
        },
        {
         "name": "buildingCondition",
         "rawType": "int64",
         "type": "integer"
        },
        {
         "name": "buildingConstructionYear",
         "rawType": "int64",
         "type": "integer"
        },
        {
         "name": "facedeCount",
         "rawType": "int64",
         "type": "integer"
        },
        {
         "name": "hasHeatPump",
         "rawType": "int64",
         "type": "integer"
        },
        {
         "name": "hasPhotovoltaicPanels",
         "rawType": "int64",
         "type": "integer"
        },
        {
         "name": "hasThermicPanels",
         "rawType": "int64",
         "type": "integer"
        },
        {
         "name": "kitchenType",
         "rawType": "int64",
         "type": "integer"
        },
        {
         "name": "landSurface",
         "rawType": "int64",
         "type": "integer"
        },
        {
         "name": "parkingCountOutdoor",
         "rawType": "int64",
         "type": "integer"
        },
        {
         "name": "hasOffice",
         "rawType": "int64",
         "type": "integer"
        },
        {
         "name": "toiletCount",
         "rawType": "int64",
         "type": "integer"
        },
        {
         "name": "hasSwimmingPool",
         "rawType": "int64",
         "type": "integer"
        },
        {
         "name": "hasFireplace",
         "rawType": "int64",
         "type": "integer"
        },
        {
         "name": "terraceSurface",
         "rawType": "int64",
         "type": "integer"
        },
        {
         "name": "price",
         "rawType": "int64",
         "type": "integer"
        },
        {
         "name": "epc_kwh",
         "rawType": "int64",
         "type": "integer"
        }
       ],
       "conversionMethod": "pd.DataFrame",
       "ref": "c5e639b8-285e-4f8c-913d-0c806f0498bb",
       "rows": [
        [
         "0",
         "309460",
         "2",
         "4087",
         "100",
         "0",
         "337048",
         "2004",
         "1",
         "0",
         "0",
         "0",
         "270162",
         "0",
         "0",
         "0",
         "1",
         "0",
         "0",
         "7",
         "399000",
         "175"
        ],
        [
         "1",
         "309460",
         "2",
         "4087",
         "87",
         "0",
         "395196",
         "1970",
         "2",
         "0",
         "0",
         "0",
         "422399",
         "0",
         "0",
         "0",
         "1",
         "0",
         "0",
         "2",
         "465000",
         "425"
        ],
        [
         "2",
         "309460",
         "2",
         "4087",
         "104",
         "0",
         "395196",
         "2018",
         "3",
         "0",
         "0",
         "0",
         "422399",
         "0",
         "0",
         "0",
         "2",
         "0",
         "0",
         "3",
         "590000",
         "125"
        ],
        [
         "3",
         "175424",
         "1",
         "4087",
         "71",
         "0",
         "395196",
         "1906",
         "2",
         "0",
         "0",
         "0",
         "336419",
         "0",
         "0",
         "0",
         "1",
         "0",
         "0",
         "0",
         "289000",
         "325"
        ],
        [
         "4",
         "309460",
         "2",
         "4087",
         "90",
         "0",
         "279630",
         "1958",
         "2",
         "0",
         "0",
         "0",
         "336419",
         "0",
         "0",
         "0",
         "1",
         "0",
         "0",
         "2",
         "375000",
         "225"
        ]
       ],
       "shape": {
        "columns": 21,
        "rows": 5
       }
      },
      "text/html": [
       "<div>\n",
       "<style scoped>\n",
       "    .dataframe tbody tr th:only-of-type {\n",
       "        vertical-align: middle;\n",
       "    }\n",
       "\n",
       "    .dataframe tbody tr th {\n",
       "        vertical-align: top;\n",
       "    }\n",
       "\n",
       "    .dataframe thead th {\n",
       "        text-align: right;\n",
       "    }\n",
       "</style>\n",
       "<table border=\"1\" class=\"dataframe\">\n",
       "  <thead>\n",
       "    <tr style=\"text-align: right;\">\n",
       "      <th></th>\n",
       "      <th>subtype</th>\n",
       "      <th>bedroomCount</th>\n",
       "      <th>postCode</th>\n",
       "      <th>habitableSurface</th>\n",
       "      <th>hasDressingRoom</th>\n",
       "      <th>buildingCondition</th>\n",
       "      <th>buildingConstructionYear</th>\n",
       "      <th>facedeCount</th>\n",
       "      <th>hasHeatPump</th>\n",
       "      <th>hasPhotovoltaicPanels</th>\n",
       "      <th>...</th>\n",
       "      <th>kitchenType</th>\n",
       "      <th>landSurface</th>\n",
       "      <th>parkingCountOutdoor</th>\n",
       "      <th>hasOffice</th>\n",
       "      <th>toiletCount</th>\n",
       "      <th>hasSwimmingPool</th>\n",
       "      <th>hasFireplace</th>\n",
       "      <th>terraceSurface</th>\n",
       "      <th>price</th>\n",
       "      <th>epc_kwh</th>\n",
       "    </tr>\n",
       "  </thead>\n",
       "  <tbody>\n",
       "    <tr>\n",
       "      <th>0</th>\n",
       "      <td>309460</td>\n",
       "      <td>2</td>\n",
       "      <td>4087</td>\n",
       "      <td>100</td>\n",
       "      <td>0</td>\n",
       "      <td>337048</td>\n",
       "      <td>2004</td>\n",
       "      <td>1</td>\n",
       "      <td>0</td>\n",
       "      <td>0</td>\n",
       "      <td>...</td>\n",
       "      <td>270162</td>\n",
       "      <td>0</td>\n",
       "      <td>0</td>\n",
       "      <td>0</td>\n",
       "      <td>1</td>\n",
       "      <td>0</td>\n",
       "      <td>0</td>\n",
       "      <td>7</td>\n",
       "      <td>399000</td>\n",
       "      <td>175</td>\n",
       "    </tr>\n",
       "    <tr>\n",
       "      <th>1</th>\n",
       "      <td>309460</td>\n",
       "      <td>2</td>\n",
       "      <td>4087</td>\n",
       "      <td>87</td>\n",
       "      <td>0</td>\n",
       "      <td>395196</td>\n",
       "      <td>1970</td>\n",
       "      <td>2</td>\n",
       "      <td>0</td>\n",
       "      <td>0</td>\n",
       "      <td>...</td>\n",
       "      <td>422399</td>\n",
       "      <td>0</td>\n",
       "      <td>0</td>\n",
       "      <td>0</td>\n",
       "      <td>1</td>\n",
       "      <td>0</td>\n",
       "      <td>0</td>\n",
       "      <td>2</td>\n",
       "      <td>465000</td>\n",
       "      <td>425</td>\n",
       "    </tr>\n",
       "    <tr>\n",
       "      <th>2</th>\n",
       "      <td>309460</td>\n",
       "      <td>2</td>\n",
       "      <td>4087</td>\n",
       "      <td>104</td>\n",
       "      <td>0</td>\n",
       "      <td>395196</td>\n",
       "      <td>2018</td>\n",
       "      <td>3</td>\n",
       "      <td>0</td>\n",
       "      <td>0</td>\n",
       "      <td>...</td>\n",
       "      <td>422399</td>\n",
       "      <td>0</td>\n",
       "      <td>0</td>\n",
       "      <td>0</td>\n",
       "      <td>2</td>\n",
       "      <td>0</td>\n",
       "      <td>0</td>\n",
       "      <td>3</td>\n",
       "      <td>590000</td>\n",
       "      <td>125</td>\n",
       "    </tr>\n",
       "    <tr>\n",
       "      <th>3</th>\n",
       "      <td>175424</td>\n",
       "      <td>1</td>\n",
       "      <td>4087</td>\n",
       "      <td>71</td>\n",
       "      <td>0</td>\n",
       "      <td>395196</td>\n",
       "      <td>1906</td>\n",
       "      <td>2</td>\n",
       "      <td>0</td>\n",
       "      <td>0</td>\n",
       "      <td>...</td>\n",
       "      <td>336419</td>\n",
       "      <td>0</td>\n",
       "      <td>0</td>\n",
       "      <td>0</td>\n",
       "      <td>1</td>\n",
       "      <td>0</td>\n",
       "      <td>0</td>\n",
       "      <td>0</td>\n",
       "      <td>289000</td>\n",
       "      <td>325</td>\n",
       "    </tr>\n",
       "    <tr>\n",
       "      <th>4</th>\n",
       "      <td>309460</td>\n",
       "      <td>2</td>\n",
       "      <td>4087</td>\n",
       "      <td>90</td>\n",
       "      <td>0</td>\n",
       "      <td>279630</td>\n",
       "      <td>1958</td>\n",
       "      <td>2</td>\n",
       "      <td>0</td>\n",
       "      <td>0</td>\n",
       "      <td>...</td>\n",
       "      <td>336419</td>\n",
       "      <td>0</td>\n",
       "      <td>0</td>\n",
       "      <td>0</td>\n",
       "      <td>1</td>\n",
       "      <td>0</td>\n",
       "      <td>0</td>\n",
       "      <td>2</td>\n",
       "      <td>375000</td>\n",
       "      <td>225</td>\n",
       "    </tr>\n",
       "  </tbody>\n",
       "</table>\n",
       "<p>5 rows × 21 columns</p>\n",
       "</div>"
      ],
      "text/plain": [
       "   subtype  bedroomCount  postCode  habitableSurface  hasDressingRoom  \\\n",
       "0   309460             2      4087               100                0   \n",
       "1   309460             2      4087                87                0   \n",
       "2   309460             2      4087               104                0   \n",
       "3   175424             1      4087                71                0   \n",
       "4   309460             2      4087                90                0   \n",
       "\n",
       "   buildingCondition  buildingConstructionYear  facedeCount  hasHeatPump  \\\n",
       "0             337048                      2004            1            0   \n",
       "1             395196                      1970            2            0   \n",
       "2             395196                      2018            3            0   \n",
       "3             395196                      1906            2            0   \n",
       "4             279630                      1958            2            0   \n",
       "\n",
       "   hasPhotovoltaicPanels  ...  kitchenType  landSurface  parkingCountOutdoor  \\\n",
       "0                      0  ...       270162            0                    0   \n",
       "1                      0  ...       422399            0                    0   \n",
       "2                      0  ...       422399            0                    0   \n",
       "3                      0  ...       336419            0                    0   \n",
       "4                      0  ...       336419            0                    0   \n",
       "\n",
       "   hasOffice  toiletCount  hasSwimmingPool  hasFireplace  terraceSurface  \\\n",
       "0          0            1                0             0               7   \n",
       "1          0            1                0             0               2   \n",
       "2          0            2                0             0               3   \n",
       "3          0            1                0             0               0   \n",
       "4          0            1                0             0               2   \n",
       "\n",
       "    price  epc_kwh  \n",
       "0  399000      175  \n",
       "1  465000      425  \n",
       "2  590000      125  \n",
       "3  289000      325  \n",
       "4  375000      225  \n",
       "\n",
       "[5 rows x 21 columns]"
      ]
     },
     "execution_count": 113,
     "metadata": {},
     "output_type": "execute_result"
    }
   ],
   "source": [
    "# Load the data from the CSV file\n",
    "df = pd.read_csv(\"./data/kangaroo-cleaned.csv\")\n",
    "\n",
    "# Display the first few rows to verify the data was loaded correctly\n",
    "df.head(5)"
   ]
  },
  {
   "cell_type": "markdown",
   "id": "f3cea4aa",
   "metadata": {},
   "source": [
    "Get relevant features "
   ]
  },
  {
   "cell_type": "code",
   "execution_count": 114,
   "id": "21d1cc52",
   "metadata": {},
   "outputs": [],
   "source": [
    "# Calculate the correlation matrix, excluding propertyId\n",
    "correlation_matrix = df.corr()\n",
    "price_correlations = correlation_matrix['price'].abs().sort_values(ascending=False)\n",
    "\n",
    "# features = price_correlations[price_correlations > 0.03].index.tolist() #list top correlated features \n",
    "# features = features[1:] # remove price from the list of features\n",
    "\n",
    "features = price_correlations.index.tolist()[1:]"
   ]
  },
  {
   "cell_type": "markdown",
   "id": "61c783b5",
   "metadata": {},
   "source": [
    "Prepare for regression + Standardize scales"
   ]
  },
  {
   "cell_type": "code",
   "execution_count": 115,
   "id": "911ef947",
   "metadata": {},
   "outputs": [],
   "source": [
    "target = 'price'\n",
    "\n",
    "x = df[features]\n",
    "y = df[target]\n",
    "\n",
    "# Split the dataset\n",
    "X_train, X_test, y_train, y_test = train_test_split(x, y, test_size=0.2, random_state=42)\n",
    "\n",
    "# Scale features\n",
    "# scaler = StandardScaler()\n",
    "# X_train_scaled = scaler.fit_transform(X_train)\n",
    "# X_test_scaled = scaler.transform(X_test)"
   ]
  },
  {
   "cell_type": "markdown",
   "id": "9ccf9112",
   "metadata": {},
   "source": [
    "---\n",
    "## Option 1: Linear Regression Coefficients (for linear relationships)"
   ]
  },
  {
   "cell_type": "code",
   "execution_count": 116,
   "id": "6073474a",
   "metadata": {},
   "outputs": [
    {
     "data": {
      "text/plain": [
       "<Axes: title={'center': 'Linear Regression Feature Importance'}>"
      ]
     },
     "execution_count": 116,
     "metadata": {},
     "output_type": "execute_result"
    },
    {
     "data": {
      "image/png": "[encoded data removed]",
      "text/plain": [
       "<Figure size 640x480 with 1 Axes>"
      ]
     },
     "metadata": {},
     "output_type": "display_data"
    }
   ],
   "source": [
    "lr = LinearRegression()\n",
    "lr.fit(X_train, y_train)\n",
    "\n",
    "# Get importance from coefficients (absolute values give relative importance)\n",
    "importance = pd.Series(np.abs(lr.coef_), index=features)\n",
    "importance.sort_values(ascending=False).plot(kind='barh', title='Linear Regression Feature Importance')"
   ]
  },
  {
   "cell_type": "markdown",
   "id": "7481503c",
   "metadata": {},
   "source": [
    "## Evaluate Model"
   ]
  },
  {
   "cell_type": "code",
   "execution_count": 117,
   "id": "43b1730e",
   "metadata": {},
   "outputs": [
    {
     "name": "stdout",
     "output_type": "stream",
     "text": [
      "RMSE: 87537.77909785608\n",
      "R² Score: 0.6878827132673311\n",
      "MAPE: 21.168694360441588 %\n",
      "MAE: 63822.10453181079\n"
     ]
    }
   ],
   "source": [
    "y_pred = lr.predict(X_test)\n",
    "print(\"RMSE:\", root_mean_squared_error(y_test, y_pred))\n",
    "print(\"R² Score:\", r2_score(y_test, y_pred))\n",
    "print(\"MAPE:\", np.mean(np.abs((y_test - y_pred) / y_test)) * 100, \"%\")\n",
    "print(\"MAE:\", np.mean(np.abs(y_test - y_pred)))"
   ]
  },
  {
   "cell_type": "markdown",
   "id": "c3a6b5f4",
   "metadata": {},
   "source": [
    "---\n",
    "\n",
    "## Option 2: XGBoost\n",
    "XGBoost (eXtreme Gradient Boosting) is another powerful ensemble learning technique that often outperforms both linear regression and random forest models. It uses gradient boosting with regularization to reduce overfitting and improve performance.\n",
    "\n",
    "Key advantages of XGBoost:\n",
    "- High performance and efficient computation\n",
    "- Regularization to prevent overfitting\n",
    "- Handles missing values automatically\n",
    "- Supports parallel processing\n",
    "- Offers built-in cross-validation\n",
    "\n",
    "For our housing price prediction task, XGBoost can capture complex non-linear relationships while maintaining good generalization performance."
   ]
  },
  {
   "cell_type": "code",
   "execution_count": 118,
   "id": "b136ac09",
   "metadata": {},
   "outputs": [
    {
     "data": {
      "text/plain": [
       "<Axes: title={'center': 'XGBoost Feature Importance'}>"
      ]
     },
     "execution_count": 118,
     "metadata": {},
     "output_type": "execute_result"
    },
    {
     "data": {
      "image/png": "[encoded data removed]",
      "text/plain": [
       "<Figure size 640x480 with 1 Axes>"
      ]
     },
     "metadata": {},
     "output_type": "display_data"
    }
   ],
   "source": [
    "\n",
    "# Initialize XGBoost model with good default parameters\n",
    "xgb_model = xgb.XGBRegressor(\n",
    "    n_estimators=200,\n",
    "    learning_rate=0.2,\n",
    "    max_depth=7,\n",
    "    min_child_weight=1,\n",
    "    subsample=1.0,\n",
    "    colsample_bytree=0.6,\n",
    "    objective='reg:squarederror',\n",
    "    random_state=42\n",
    ")\n",
    "\n",
    "# Finetuning with GridSearchCV,\n",
    "# from sklearn.model_selection import GridSearchCV\n",
    "# param_grid = {\n",
    "#     'n_estimators': [50, 100, 200],\n",
    "#     'max_depth': [3, 5, 7],\n",
    "#     'learning_rate': [0.01, 0.1, 0.2],\n",
    "#     'subsample': [0.6, 0.8, 1.0],\n",
    "#     'colsample_bytree': [0.6, 0.8, 1.0],\n",
    "#     'min_child_weight': [1, 3, 5]\n",
    "# }\n",
    "# grid_search = GridSearchCV(\n",
    "#     estimator=xgb.XGBRegressor(objective='reg:squarederror', random_state=42),\n",
    "#     param_grid=param_grid,\n",
    "#     scoring='neg_mean_squared_error',\n",
    "#     cv=3,\n",
    "#     verbose=1,\n",
    "#     n_jobs=-1\n",
    "# )\n",
    "# grid_search.fit(X_train, y_train)\n",
    "# best_params = grid_search.best_params_\n",
    "# print(f\"Best parameters: {best_params}\")\n",
    "# xgb_model = xgb.XGBRegressor(objective='reg:squarederror', random_state=42, **best_params)\n",
    "\n",
    "# Train the model\n",
    "xgb_model.fit(X_train, y_train)\n",
    "\n",
    "# Get feature importance\n",
    "importance = pd.Series(xgb_model.feature_importances_, index=features)\n",
    "importance.sort_values(ascending=True).plot(\n",
    "    kind='barh', \n",
    "    title='XGBoost Feature Importance'\n",
    ")"
   ]
  },
  {
   "cell_type": "markdown",
   "id": "49788b21",
   "metadata": {},
   "source": [
    "### Evaluate Model"
   ]
  },
  {
   "cell_type": "code",
   "execution_count": 119,
   "id": "faf633d2",
   "metadata": {},
   "outputs": [
    {
     "name": "stdout",
     "output_type": "stream",
     "text": [
      "XGBoost Performance Metrics:\n",
      "RMSE: 69677.0625\n",
      "R² Score: 0.8022545576095581\n",
      "MAPE: 15.820257365703583 %\n",
      "MAE: 49230.7421875\n"
     ]
    }
   ],
   "source": [
    "# Make predictions\n",
    "y_pred = xgb_model.predict(X_test)\n",
    "\n",
    "# Evaluate the model\n",
    "print(\"XGBoost Performance Metrics:\")\n",
    "print(\"RMSE:\", root_mean_squared_error(y_test, y_pred))\n",
    "print(\"R² Score:\", r2_score(y_test, y_pred))\n",
    "print(\"MAPE:\", mean_absolute_percentage_error(y_test, y_pred) * 100, \"%\")\n",
    "print(\"MAE:\", mean_absolute_error(y_test, y_pred))"
   ]
  }
 ],
 "metadata": {
  "kernelspec": {
   "display_name": "venv",
   "language": "python",
   "name": "python3"
  },
  "language_info": {
   "codemirror_mode": {
    "name": "ipython",
    "version": 3
   },
   "file_extension": ".py",
   "mimetype": "text/x-python",
   "name": "python",
   "nbconvert_exporter": "python",
   "pygments_lexer": "ipython3",
   "version": "3.11.2"
  }
 },
 "nbformat": 4,
 "nbformat_minor": 5
}
